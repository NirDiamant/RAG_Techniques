{
 "cells": [
  {
   "cell_type": "markdown",
   "metadata": {},
   "source": [
    "# Introduction\n",
    "\n",
    "[open-rag-eval](https://github.com/vectara/open-rag-eval) is an open source python RAG evaluation toolkit used to evaluate RAG pipelines. \n",
    "\n",
    "This notebook provides a simple demo for using open-rag-eval. Specifically, we run the evaluation framework on the **fiqa** dataset from the [BEIR benchmark](https://library.toponeai.link/dataset/beir), and examine metrics and intermediate outputs. \n",
    "\n",
    "To make things easier and faster, we already pre-indexed the dataset using a RAG system and ran a subset of queries (from the same fiqa dataset) against the indexed data. The results of this are stored in the `fiqa_output.csv` file. This file contains the queries, retrieved results and LLM generated answers to those queries, and we'll use that as the input to our evaluation system. "
   ]
  },
  {
   "cell_type": "markdown",
   "metadata": {},
   "source": [
    "## RAG Evaluation outputs\n",
    "\n",
    "To get started, let's look at the `fiqa_output.csv` file:"
   ]
  },
  {
   "cell_type": "code",
   "execution_count": 1,
   "metadata": {},
   "outputs": [],
   "source": [
    "import pandas as pd\n",
    "import os\n",
    "\n",
    "from dotenv import load_dotenv\n",
    "\n",
    "from open_rag_eval.evaluators import TRECEvaluator\n",
    "from open_rag_eval.models.llm_judges import OpenAIModel\n",
    "from open_rag_eval.connectors import CSVConnector\n",
    "\n",
    "import pprint\n",
    "pp = pprint.PrettyPrinter(indent=4, width=80)"
   ]
  },
  {
   "cell_type": "code",
   "execution_count": null,
   "metadata": {},
   "outputs": [
    {
     "data": {
      "text/html": [
       "<div>\n",
       "<style scoped>\n",
       "    .dataframe tbody tr th:only-of-type {\n",
       "        vertical-align: middle;\n",
       "    }\n",
       "\n",
       "    .dataframe tbody tr th {\n",
       "        vertical-align: top;\n",
       "    }\n",
       "\n",
       "    .dataframe thead th {\n",
       "        text-align: right;\n",
       "    }\n",
       "</style>\n",
       "<table border=\"1\" class=\"dataframe\">\n",
       "  <thead>\n",
       "    <tr style=\"text-align: right;\">\n",
       "      <th></th>\n",
       "      <th>query_id</th>\n",
       "      <th>query</th>\n",
       "      <th>passage_id</th>\n",
       "      <th>passage</th>\n",
       "      <th>generated_answer</th>\n",
       "    </tr>\n",
       "  </thead>\n",
       "  <tbody>\n",
       "    <tr>\n",
       "      <th>0</th>\n",
       "      <td>8311fbce-c34a-43da-9bfe-24b72c2d3a0c</td>\n",
       "      <td>accredited investor definition</td>\n",
       "      <td>[1]</td>\n",
       "      <td>Here are the SEC requirements: The federal se...</td>\n",
       "      <td>Based on the provided sources, an accredited i...</td>\n",
       "    </tr>\n",
       "    <tr>\n",
       "      <th>1</th>\n",
       "      <td>8311fbce-c34a-43da-9bfe-24b72c2d3a0c</td>\n",
       "      <td>accredited investor definition</td>\n",
       "      <td>[2]</td>\n",
       "      <td>\"The (U.S) \"\"accredited investor\"\" laws apply...</td>\n",
       "      <td></td>\n",
       "    </tr>\n",
       "    <tr>\n",
       "      <th>2</th>\n",
       "      <td>8311fbce-c34a-43da-9bfe-24b72c2d3a0c</td>\n",
       "      <td>accredited investor definition</td>\n",
       "      <td>[3]</td>\n",
       "      <td>Accredited investors are required to have 1 m...</td>\n",
       "      <td></td>\n",
       "    </tr>\n",
       "    <tr>\n",
       "      <th>3</th>\n",
       "      <td>8311fbce-c34a-43da-9bfe-24b72c2d3a0c</td>\n",
       "      <td>accredited investor definition</td>\n",
       "      <td>[4]</td>\n",
       "      <td>Does me holding stock in the company make me ...</td>\n",
       "      <td></td>\n",
       "    </tr>\n",
       "    <tr>\n",
       "      <th>4</th>\n",
       "      <td>8311fbce-c34a-43da-9bfe-24b72c2d3a0c</td>\n",
       "      <td>accredited investor definition</td>\n",
       "      <td>[5]</td>\n",
       "      <td>SecondMarket attempts to add liquidity to pri...</td>\n",
       "      <td></td>\n",
       "    </tr>\n",
       "    <tr>\n",
       "      <th>5</th>\n",
       "      <td>45332c9d-14de-4107-b136-b71f6673b8e2</td>\n",
       "      <td>what is the purpose of a job training</td>\n",
       "      <td>[1]</td>\n",
       "      <td>I'm not saying I don't like the idea of on-th...</td>\n",
       "      <td>Based on the provided sources, the purpose of ...</td>\n",
       "    </tr>\n",
       "    <tr>\n",
       "      <th>6</th>\n",
       "      <td>45332c9d-14de-4107-b136-b71f6673b8e2</td>\n",
       "      <td>what is the purpose of a job training</td>\n",
       "      <td>[2]</td>\n",
       "      <td>A lot of jobs, if not most, just don't requir...</td>\n",
       "      <td></td>\n",
       "    </tr>\n",
       "    <tr>\n",
       "      <th>7</th>\n",
       "      <td>45332c9d-14de-4107-b136-b71f6673b8e2</td>\n",
       "      <td>what is the purpose of a job training</td>\n",
       "      <td>[3]</td>\n",
       "      <td>&amp;gt; but we as a society do not even offer en...</td>\n",
       "      <td></td>\n",
       "    </tr>\n",
       "    <tr>\n",
       "      <th>8</th>\n",
       "      <td>45332c9d-14de-4107-b136-b71f6673b8e2</td>\n",
       "      <td>what is the purpose of a job training</td>\n",
       "      <td>[4]</td>\n",
       "      <td>We also have for-profit, career-oriented scho...</td>\n",
       "      <td></td>\n",
       "    </tr>\n",
       "    <tr>\n",
       "      <th>9</th>\n",
       "      <td>45332c9d-14de-4107-b136-b71f6673b8e2</td>\n",
       "      <td>what is the purpose of a job training</td>\n",
       "      <td>[5]</td>\n",
       "      <td>What about electrician, plumber, welder, cons...</td>\n",
       "      <td></td>\n",
       "    </tr>\n",
       "  </tbody>\n",
       "</table>\n",
       "</div>"
      ],
      "text/plain": [
       "                               query_id  \\\n",
       "0  8311fbce-c34a-43da-9bfe-24b72c2d3a0c   \n",
       "1  8311fbce-c34a-43da-9bfe-24b72c2d3a0c   \n",
       "2  8311fbce-c34a-43da-9bfe-24b72c2d3a0c   \n",
       "3  8311fbce-c34a-43da-9bfe-24b72c2d3a0c   \n",
       "4  8311fbce-c34a-43da-9bfe-24b72c2d3a0c   \n",
       "5  45332c9d-14de-4107-b136-b71f6673b8e2   \n",
       "6  45332c9d-14de-4107-b136-b71f6673b8e2   \n",
       "7  45332c9d-14de-4107-b136-b71f6673b8e2   \n",
       "8  45332c9d-14de-4107-b136-b71f6673b8e2   \n",
       "9  45332c9d-14de-4107-b136-b71f6673b8e2   \n",
       "\n",
       "                                   query passage_id  \\\n",
       "0         accredited investor definition        [1]   \n",
       "1         accredited investor definition        [2]   \n",
       "2         accredited investor definition        [3]   \n",
       "3         accredited investor definition        [4]   \n",
       "4         accredited investor definition        [5]   \n",
       "5  what is the purpose of a job training        [1]   \n",
       "6  what is the purpose of a job training        [2]   \n",
       "7  what is the purpose of a job training        [3]   \n",
       "8  what is the purpose of a job training        [4]   \n",
       "9  what is the purpose of a job training        [5]   \n",
       "\n",
       "                                             passage  \\\n",
       "0   Here are the SEC requirements: The federal se...   \n",
       "1   \"The (U.S) \"\"accredited investor\"\" laws apply...   \n",
       "2   Accredited investors are required to have 1 m...   \n",
       "3   Does me holding stock in the company make me ...   \n",
       "4   SecondMarket attempts to add liquidity to pri...   \n",
       "5   I'm not saying I don't like the idea of on-th...   \n",
       "6   A lot of jobs, if not most, just don't requir...   \n",
       "7   &gt; but we as a society do not even offer en...   \n",
       "8   We also have for-profit, career-oriented scho...   \n",
       "9   What about electrician, plumber, welder, cons...   \n",
       "\n",
       "                                    generated_answer  \n",
       "0  Based on the provided sources, an accredited i...  \n",
       "1                                                     \n",
       "2                                                     \n",
       "3                                                     \n",
       "4                                                     \n",
       "5  Based on the provided sources, the purpose of ...  \n",
       "6                                                     \n",
       "7                                                     \n",
       "8                                                     \n",
       "9                                                     "
      ]
     },
     "execution_count": 2,
     "metadata": {},
     "output_type": "execute_result"
    }
   ],
   "source": [
    "df = pd.read_csv('https://raw.githubusercontent.com/vectara/example-notebooks/main/data/fiqa_output.csv').fillna('')\n",
    "df = df.head(50) # Limiting to first 50 rows for faster run time\n",
    "df.head(10)"
   ]
  },
  {
   "cell_type": "markdown",
   "metadata": {},
   "source": [
    "Each query has a unique `query_id`, with multiple rows corresponding to one query. This is because we use one row per retrieved passage and in this case we retrieved 5 passages per query, and you can see that for each passage we have a separate passage_id and passage text.\n",
    "\n",
    "The `generated_answer` is the answer generated by the LLM to the query grounded on the passages. \n",
    "\n",
    "This CSV format is the input to the open-rag-eval pipeline. \n",
    "\n",
    "If you have a Vectara account, you can also set open-rag-eval with the Vectara connector and a set of queries to automatically create this file by runnning each query through your Vectara RAG.\n"
   ]
  },
  {
   "cell_type": "markdown",
   "metadata": {},
   "source": [
    "## Run The Evaluation\n",
    "\n",
    "Let's define our evaluator (which contains a set of metrics). \n",
    "\n",
    "For this example we're using the TREC RAG Evaluator. The Evaluator needs an LLM as the judge model which will be scoring responses, in this case we will use GPT-4o-mini."
   ]
  },
  {
   "cell_type": "code",
   "execution_count": 3,
   "metadata": {},
   "outputs": [
    {
     "name": "stderr",
     "output_type": "stream",
     "text": [
      "You are using a model of type HHEMv2Config to instantiate a model of type HHEMv2. This is not supported for all configurations of models and can yield errors.\n"
     ]
    }
   ],
   "source": [
    "# Make sure your OPENAI_API_KEY is in a .env file in the same directory as this notebook.\n",
    "load_dotenv()\n",
    "\n",
    "judge_model = OpenAIModel(model_name=\"gpt-4o-mini\", api_key=os.getenv(\"OPENAI_API_KEY\"))\n",
    "evaluator = TRECEvaluator(model=judge_model)"
   ]
  },
  {
   "cell_type": "markdown",
   "metadata": {},
   "source": [
    "## running the evaluation\n",
    "\n",
    "We now use the CSVConnector to read the RAG output from the file\n",
    "\n",
    "Note: you can ignore the 'Token indices sequence length is longer than the specified maximum sequence length for this model (1782 > 512). It's not important."
   ]
  },
  {
   "cell_type": "code",
   "execution_count": 4,
   "metadata": {},
   "outputs": [
    {
     "name": "stderr",
     "output_type": "stream",
     "text": [
      "Evaluating using TRECRAG evaluator.:   0%|               | 0/10 [00:00<?, ?it/s]Token indices sequence length is longer than the specified maximum sequence length for this model (1615 > 512). Running this sequence through the model will result in indexing errors\n",
      "Evaluating using TRECRAG evaluator.: 100%|██████| 10/10 [03:52<00:00, 23.22s/it]\n"
     ]
    }
   ],
   "source": [
    "rag_results = CSVConnector('../data/fiqa_output.csv').fetch_data()\n",
    "scored_results = evaluator.evaluate_batch(rag_results)"
   ]
  },
  {
   "cell_type": "markdown",
   "metadata": {},
   "source": [
    "## Review Evaluation Metrics\n",
    "\n",
    "The evaluator uses multiple metrics, each metric scores either the retrieval results or the generated response and adds its own scores to the scored_results under a unique key. The scored_results are of type `ScoredRAGResult` and contain both the original query, retrieved passages and the scored metrics along with any intermediate metric output for easy debugging and in-depth analysis.\n",
    "\n",
    "### UMBRELA Metrics\n",
    "\n",
    "Lets look at some of our scores and see if we can tie them back to the original query and retrieved passages.\n",
    "We start with the `UMBRELA` metric, which assigns a value to each retrieved passage corresponding to the following:\n",
    "* NO_RELEVANCE = \"0\"\n",
    "* RELATED = \"1\"\n",
    "* PARTIAL_ANSWER = \"2\"\n",
    "* EXACT_ANSWER = \"3\""
   ]
  },
  {
   "cell_type": "code",
   "execution_count": 5,
   "metadata": {},
   "outputs": [],
   "source": [
    "# Let's pick a query to show the results for.\n",
    "for scored_result in scored_results:\n",
    "    if scored_result.rag_result.retrieval_result.query == \"accredited investor definition\":\n",
    "        break"
   ]
  },
  {
   "cell_type": "code",
   "execution_count": 6,
   "metadata": {},
   "outputs": [
    {
     "name": "stdout",
     "output_type": "stream",
     "text": [
      "'Query: accredited investor definition'\n",
      "'------'\n",
      "('Passage:  Here are the SEC requirements: The federal securities laws define '\n",
      " 'the term accredited investor in   Rule 501 of Regulation D as: a bank, '\n",
      " 'insurance company, registered investment company, business development '\n",
      " 'company, or small business investment company; an employee benefit plan, '\n",
      " 'within the meaning of the Employee Retirement Income Security Act, if a '\n",
      " 'bank, insurance company, or   registered investment adviser makes the '\n",
      " 'investment decisions, or if   the plan has total assets in excess of $5 '\n",
      " 'million; a charitable organization, corporation, or partnership with assets '\n",
      " 'exceeding $5 million; a director, executive officer, or general partner of '\n",
      " 'the company selling the securities; a business in which all the equity '\n",
      " 'owners are accredited investors; a natural person who has individual net '\n",
      " 'worth, or joint net worth with the person’s spouse, that exceeds $1 million '\n",
      " 'at the time of the   purchase, excluding the value of the primary residence '\n",
      " 'of such person; a natural person with income exceeding $200,000 in each of '\n",
      " 'the two most recent years or joint income with a spouse exceeding $300,000 '\n",
      " 'for   those years and a reasonable expectation of the same income level in   '\n",
      " 'the current year; or a trust with assets in excess of $5 million, not formed '\n",
      " 'to acquire the securities offered, whose purchases a sophisticated person '\n",
      " 'makes. No citizenship/residency requirements.')\n",
      "'Score: 2'\n",
      "'------'\n",
      "('Passage:  \"The (U.S) \"\"accredited investor\"\" laws apply to investments in '\n",
      " 'the U.S. Foreign countries may or may not have their own laws regarding '\n",
      " 'investment in startups, and if so, the foreign laws apply. One way around '\n",
      " 'the net worth minimum is to be a member of the management team. \"\"Active\"\" '\n",
      " \"(management) investors don't need to be accredited because they can see \"\n",
      " \"what's going on on a day to day basis. The accredited investor laws apply to \"\n",
      " 'the target companies, not to the investors. Basically, a start-up company '\n",
      " 'can\\'t take \"\"other people\\'s money\"\" from a non-accredited investor. But '\n",
      " 'you can invest \"\"your own\"\" money in it if you are a manager.\"')\n",
      "'Score: 1'\n",
      "'------'\n",
      "('Passage:  Accredited investors are required to have 1 million in assets (not '\n",
      " 'including primary residence) or $200,000/yr income for the last 3 years. '\n",
      " 'These kinds of regulations come from the SEC, not the company involved, '\n",
      " \"which means the SEC thinks it's a risky investment. If I recall correctly, \"\n",
      " '[someone I know] had to submit evidence of being an accredited investor to '\n",
      " 'trade options on [his] IRA. It may be that this is related to the '\n",
      " 'classification of the options.')\n",
      "'Score: 1'\n",
      "'------'\n",
      "('Passage:  Does me holding stock in the company make me an accredited '\n",
      " 'investor with this company in particular? No.  But maybe the site will let '\n",
      " 'you trade it your shares to another accredited investor. Just ask, if the '\n",
      " 'site operators have a securities lawyer they should be able to accomodate')\n",
      "'Score: 1'\n",
      "'------'\n",
      "('Passage:  SecondMarket attempts to add liquidity to privately held '\n",
      " 'companies. You may be able to find a buyer there, but this is still '\n",
      " 'incredibly illiquid due to accredited investor regulations constricting '\n",
      " 'businesses from catering to the 99%. As around 1% of the United States '\n",
      " 'population qualifies as an accredited investor.')\n",
      "'Score: 0'\n",
      "'------'\n"
     ]
    }
   ],
   "source": [
    "scores = scored_results[0].scores\n",
    "\n",
    " # Our query is:\n",
    "pp.pprint(f\"Query: {scored_result.rag_result.retrieval_result.query}\")\n",
    "pp.pprint(\"------\")\n",
    "\n",
    "num_results_to_show = 5\n",
    "for key, passage in scored_result.rag_result.retrieval_result.retrieved_passages.items():\n",
    "    pp.pprint(f\"Passage: {passage}\")\n",
    "    pp.pprint(f\"Score: {scores.retrieval_score.scores['umbrela_scores'][key]}\")\n",
    "    pp.pprint(\"------\")\n",
    "    num_results_to_show -= 1\n",
    "    if num_results_to_show == 0:\n",
    "        break"
   ]
  },
  {
   "cell_type": "markdown",
   "metadata": {},
   "source": [
    "### AutoNuggetizer Metric\n",
    "\n",
    "Another interesting metric to look at is the `autonuggetizer` metric\n",
    "\n",
    "We can examine which nuggets of information the metric thought a good answer should have, based on the passages (the so-called 'auto nuggets'). \n",
    "Each nugget is deemed 'vital' or 'okay' to be included in the answer, and then the generated answer is compared to each nugget to see if it contains, partially contains or does not contain the nugget (called \"support\", \"partial_support\" and \"not_support\")"
   ]
  },
  {
   "cell_type": "code",
   "execution_count": 7,
   "metadata": {},
   "outputs": [
    {
     "name": "stdout",
     "output_type": "stream",
     "text": [
      "('Generated Answer: Based on the provided sources, an accredited investor is '\n",
      " 'defined as:\\n'\n",
      " '\\n'\n",
      " '* A bank, insurance company, registered investment company, business '\n",
      " 'development company, or small business investment company [1] * An employee '\n",
      " 'benefit plan with assets exceeding $5 million [1] * A charitable '\n",
      " 'organization, corporation, or partnership with assets exceeding $5 million '\n",
      " '[1] * A director, executive officer, or general partner of the company '\n",
      " 'selling the securities [1] * A business in which all the equity owners are '\n",
      " 'accredited investors [1] * A natural person who has individual net worth, or '\n",
      " \"joint net worth with the person's spouse, that exceeds $1 million at the \"\n",
      " 'time of the purchase, excluding the value of the primary residence of such '\n",
      " 'person [1] * A natural person with income exceeding $200,000 in each of the '\n",
      " 'two most recent years or joint income with a spouse exceeding $300,000 for '\n",
      " 'those years and a reasonable expectation of the same income level in the '\n",
      " 'current year [1] * A trust with assets in excess of $5 million, not formed '\n",
      " 'to acquire the securities offered, whose purchases a sophisticated person '\n",
      " 'makes [1] Additionally, accredited investors are required to have:\\n'\n",
      " '\\n'\n",
      " '* $1 million in assets (not including primary residence) or $200,000/yr '\n",
      " \"income for the last 3 years [3] It's worth noting that being an accredited \"\n",
      " 'investor does not necessarily mean that one is a member of the management '\n",
      " 'team [2] , and holding stock in a company does not automatically make one an '\n",
      " 'accredited investor with that company [4] .\\n'\n",
      " '\\n'\n",
      " 'Sources: [1] [2] [3] [4]')\n",
      "('Nugget: Canadian trade with China exceeds $70 billion annually, Importance: '\n",
      " 'NuggetImportanceValues.VITAL, Support: NuggetAssignmentValues.SUPPORT')\n",
      "('Nugget: Canadian importers can pay suppliers in CNY, Importance: '\n",
      " 'NuggetImportanceValues.VITAL, Support: NuggetAssignmentValues.SUPPORT')\n",
      "('Nugget: Chinese goods potentially cheaper for Canadian importers, '\n",
      " 'Importance: NuggetImportanceValues.VITAL, Support: '\n",
      " 'NuggetAssignmentValues.PARTIAL_SUPPORT')\n",
      "('Nugget: Payments in CNY avoid USD volatility risks, Importance: '\n",
      " 'NuggetImportanceValues.OKAY, Support: NuggetAssignmentValues.SUPPORT')\n",
      "('Nugget: Buy RMB with CAD for Chinese orders, Importance: '\n",
      " 'NuggetImportanceValues.OKAY, Support: NuggetAssignmentValues.SUPPORT')\n",
      "('Nugget: Lower transaction costs by avoiding USD, Importance: '\n",
      " 'NuggetImportanceValues.OKAY, Support: NuggetAssignmentValues.SUPPORT')\n",
      "('Nugget: CNY generally appreciates against CAD, Importance: '\n",
      " 'NuggetImportanceValues.OKAY, Support: NuggetAssignmentValues.PARTIAL_SUPPORT')\n",
      "('Nugget: Forex market impacts Canadian economy significantly, Importance: '\n",
      " 'NuggetImportanceValues.OKAY, Support: NuggetAssignmentValues.NOT_SUPPORT')\n",
      "('Nugget: Canadian exporters face challenges with stronger CAD, Importance: '\n",
      " 'NuggetImportanceValues.OKAY, Support: NuggetAssignmentValues.NOT_SUPPORT')\n",
      "('Nugget: Japanese precedent in local currency pricing, Importance: '\n",
      " 'NuggetImportanceValues.OKAY, Support: NuggetAssignmentValues.NOT_SUPPORT')\n",
      "('Nugget: Exchange rates affect international trade dynamics, Importance: '\n",
      " 'NuggetImportanceValues.OKAY, Support: NuggetAssignmentValues.NOT_SUPPORT')\n"
     ]
    }
   ],
   "source": [
    "autonuggetizer_scores = scores.generation_score.scores['autonugget_scores']\n",
    "\n",
    "# Let's look at the generated answer first (this needs a bit of construction as we decompose and store it as text + citations).\n",
    "recreated_answer = []\n",
    "for part in scored_result.rag_result.generation_result.generated_answer:\n",
    "    recreated_answer.append(part.text)\n",
    "    for citation in part.citations:\n",
    "        recreated_answer.append(citation)\n",
    "generated_answer =\" \".join(recreated_answer)\n",
    "pp.pprint(f\"Generated Answer: {generated_answer}\")\n",
    "\n",
    "for nugget, importance, support in zip(autonuggetizer_scores['nuggets'], autonuggetizer_scores['labels'], autonuggetizer_scores['assignments']):    \n",
    "    pp.pprint(f\"Nugget: {nugget}, Importance: {importance}, Support: {support}\")"
   ]
  },
  {
   "cell_type": "markdown",
   "metadata": {},
   "source": [
    "### Hallucination Metric\n",
    "\n",
    "This metric indicates whether the generated answer that you see in the previous section is hallucinated or not bsaed on the retrieved passages that you can see in the UMBRELA section. The score ranges from [0, 1] with a higher score indicating a higher consistency, we usually threshold the score at 0.5 so anything > 0.5 is considered consistent and anything  <0.5 is considered hallucinated\n"
   ]
  },
  {
   "cell_type": "code",
   "execution_count": 8,
   "metadata": {},
   "outputs": [
    {
     "name": "stdout",
     "output_type": "stream",
     "text": [
      "Hallucination Score: 0.8428813219070435\n"
     ]
    }
   ],
   "source": [
    "print(\"Hallucination Score:\", scores.generation_score.scores['hallucination_scores'])\n"
   ]
  },
  {
   "cell_type": "markdown",
   "metadata": {},
   "source": [
    "### Citation Metric\n",
    "The final metric we show is the citation metric which determines if the citations produced the by the generative model are accurate or not. i.e. if for example the LLM says a sentence came from retrieved passage [1] does that passage actually support the sentence or not. You can view a per citation view of this or an aggregate F1 score.\n"
   ]
  },
  {
   "cell_type": "code",
   "execution_count": 9,
   "metadata": {},
   "outputs": [
    {
     "name": "stdout",
     "output_type": "stream",
     "text": [
      "Citation Scores:\n"
     ]
    },
    {
     "data": {
      "text/plain": [
       "{'citation_score_[1]': 1,\n",
       " 'citation_score_[3]': 0,\n",
       " 'weighted_precision': 0.5,\n",
       " 'weighted_recall': 0.2,\n",
       " 'f1': 0.28571428571428575}"
      ]
     },
     "execution_count": 9,
     "metadata": {},
     "output_type": "execute_result"
    }
   ],
   "source": [
    "print(\"Citation Scores:\")\n",
    "scores.generation_score.scores['citation_scores']"
   ]
  },
  {
   "cell_type": "markdown",
   "metadata": {},
   "source": [
    "## Plotting results\n",
    "\n",
    "Now that we have the `scored_results`, let's save them into a file, and then use the `plot_metrics` function to create a summary plot of the evaluation results. if you have multiple results files you can pass them to the `plot_metrics` function as a list and all the results will be plotted on the same graph."
   ]
  },
  {
   "cell_type": "code",
   "execution_count": 10,
   "metadata": {},
   "outputs": [
    {
     "name": "stdout",
     "output_type": "stream",
     "text": [
      "Graph saved to metrics_summary.png\n"
     ]
    }
   ],
   "source": [
    "from open_rag_eval.data_classes import eval_scores\n",
    "\n",
    "eval_scores.to_csv(scored_results, file_path=\"evaluation_results.csv\")\n",
    "TRECEvaluator.plot_metrics(csv_files=[\"evaluation_results.csv\"], output_file=\"metrics_summary.png\")\n"
   ]
  },
  {
   "cell_type": "code",
   "execution_count": 11,
   "metadata": {},
   "outputs": [
    {
     "data": {
      "image/png": "[encoded data removed]",
      "text/plain": [
       "<Figure size 1000x800 with 1 Axes>"
      ]
     },
     "metadata": {},
     "output_type": "display_data"
    }
   ],
   "source": [
    "import matplotlib.pyplot as plt\n",
    "import matplotlib.image as mpimg\n",
    "\n",
    "plt.figure(figsize=(10, 8))\n",
    "\n",
    "img = mpimg.imread('metrics_summary.png')\n",
    "plt.imshow(img)\n",
    "plt.axis('off')\n",
    "plt.show()"
   ]
  },
  {
   "cell_type": "code",
   "execution_count": null,
   "metadata": {},
   "outputs": [],
   "source": []
  }
 ],
 "metadata": {
  "kernelspec": {
   "display_name": "Python 3 (ipykernel)",
   "language": "python",
   "name": "python3"
  },
  "language_info": {
   "codemirror_mode": {
    "name": "ipython",
    "version": 3
   },
   "file_extension": ".py",
   "mimetype": "text/x-python",
   "name": "python",
   "nbconvert_exporter": "python",
   "pygments_lexer": "ipython3",
   "version": "3.12.8"
  }
 },
 "nbformat": 4,
 "nbformat_minor": 4
}
