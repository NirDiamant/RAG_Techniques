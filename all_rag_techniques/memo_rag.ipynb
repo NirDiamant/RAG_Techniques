{
 "cells": [
  {
   "metadata": {},
   "cell_type": "markdown",
   "source": [
    "# MemoRAG: Enhancing Retrieval-Augmented Generation with Memory Models\n",
    "\n",
    "## Overview\n",
    "MemoRAG is a Retrieval-Augmented Generation (RAG) framework that incorporates a memory model as an auxiliary step before the retrieval phase. In doing so, it bridges the gap in contextual understanding and reasoning that standard RAG techniques face when addressing queries with implicit or ambiguous information needs and unstructured external knowledge.\n",
    "\n",
    "## Motivation\n",
    "Standard RAG techniques rely heavily on lexical or semantic matching between the query and the knowledge base. While this approach works well for clear question answering tasks with structured knowledge, it often falls short when handling queries with implicit or ambiguous information (e.g., describing the relationships between main characters in a novel) or when the knowledge base is unstructured (e.g., fiction books). In such cases, lexical or semantic matching seldom produces the desired outputs.\n",
    "\n",
    "## Key Components\n",
    "1. **Memory**: A compressed representation of the database created by a long-context model, designed to handle and summarize extensive inputs efficiently.\n",
    "2. **Retriever**: A standard RAG retrieval model responsible for selecting relevant context from the knowledge base to support the generator.\n",
    "3. **Generator**: A generative language model that produces responses by combining the query with the retrieved context, similar to standard RAG setups.\n",
    "\n",
    "## Method Details\n",
    "### 1. Memory\n",
    "- The memory module serves as an auxiliary component to enhance the retriever’s ability to identify better matches between queries and relevant parts of the database. It takes the original query and the database as inputs and produces staging answers — intermediate outputs like clues, surrogate queries, or key points — which the retriever uses instead of the original query.\n",
    "- Long-term memory is constructed by running a long-context model, such as Qwen2-7B-Instruct or Mistral-7B-Instruct-v0.2, over the entire database. This process generates a compressed representation of the database through an attention mechanism.\n",
    "- The compressed representation is stored as key-value pairs, facilitating efficient and accurate retrieval.\n",
    "- Released memory models include memorag-qwen2-7b-inst and memorag-mistral-7b-inst, derived from Qwen2-7B-Instruct and Mistral-7B-Instruct-v0.2, respectively.\n",
    "\n",
    "### 2. Retriever\n",
    "- The retriever is a standard retrieval model, adapted to take processed queries (created by the memory module as staging answers) instead of the original query.\n",
    "- It outputs the retrieved **context**, which serves as the basis for generating the final answer.\n",
    "\n",
    "\n",
    "### 3. Generator\n",
    "- The generator produces the final response by combining the retriever’s output (retrieved context) with the original query.\n",
    "- MemoRAG ensures compatibility and consistency by using the memory module’s underlying model as the default generator.\n",
    "\n",
    "## Benefits of the Approach\n",
    "1. **Extended Scope of Queries:** MemoRAG's preprocessing capabilities enable it to handle complex and long-context tasks that conventional RAG methods struggle with.\n",
    "\n",
    "2. **Improved Accuracy:** By simplifying and adjusting queries before retrieval, MemoRAG enhances performance over standard RAG methods.\n",
    "\n",
    "3. **Flexibility:** Adapts to diverse tasks, datasets, and retrieval scenarios.\n",
    "\n",
    "4. **Robustness:** Improved performance remains consistent across various generators, datasets, and query types.\n",
    "\n",
    "5. **Efficiency**: The use of key-value compression reduces computational overhead.\n",
    "\n",
    "## Conclusion\n",
    "The memory module in MemoRAG significantly enhances comprehension of both the queries and the database, enabling more effective retrieval. Its ability to preprocess queries, generate staging answers, and leverage long-context memory models ensures high-quality responses, making MemoRAG a significant step forward in the evolution of retrieval-augmented generation.\n"
   ],
   "id": "67e98dec56de7fdd"
  },
  {
   "metadata": {},
   "cell_type": "markdown",
   "source": [
    "<div style=\"text-align: center;\">\n",
    "\n",
    "<img src=\"../images/memo_rag.svg\" alt=\"MemoRAG\" style=\"width:100%; height:auto;\">\n",
    "</div>"
   ],
   "id": "abfa998b6aa7d7ce"
  },
  {
   "metadata": {},
   "cell_type": "markdown",
   "source": "### Imports",
   "id": "2bc3b3e34c811bd5"
  },
  {
   "metadata": {
    "ExecuteTime": {
     "end_time": "2025-01-15T00:13:54.647220Z",
     "start_time": "2025-01-15T00:13:54.643653Z"
    }
   },
   "cell_type": "code",
   "source": [
    "import os\n",
    "from dotenv import load_dotenv\n",
    "from typing import List, Dict\n",
    "from langchain_community.embeddings import OpenAIEmbeddings\n",
    "from langchain_community.vectorstores import FAISS\n",
    "from langchain_community.document_loaders import PyPDFLoader\n",
    "from openai import OpenAI\n",
    "import time"
   ],
   "id": "e31a95191a274c83",
   "outputs": [],
   "execution_count": 13
  },
  {
   "metadata": {},
   "cell_type": "markdown",
   "source": "### OpenAI Setup",
   "id": "a84d4f5a1fd94512"
  },
  {
   "metadata": {
    "ExecuteTime": {
     "end_time": "2025-01-15T00:13:54.660538Z",
     "start_time": "2025-01-15T00:13:54.651016Z"
    }
   },
   "cell_type": "code",
   "source": [
    "load_dotenv()\n",
    "client = OpenAI(api_key=os.getenv('OPENAI_API_KEY'))"
   ],
   "id": "705080e6703ad71c",
   "outputs": [],
   "execution_count": 14
  },
  {
   "metadata": {},
   "cell_type": "markdown",
   "source": "### Memory Base Classes",
   "id": "62fd38f51251d71a"
  },
  {
   "metadata": {
    "ExecuteTime": {
     "end_time": "2025-01-15T00:13:54.669235Z",
     "start_time": "2025-01-15T00:13:54.665509Z"
    }
   },
   "cell_type": "code",
   "source": [
    "class SimpleMemoryStore:\n",
    "    \"\"\"Simple memory store using FAISS\"\"\"\n",
    "    def __init__(self):\n",
    "        self.embeddings = OpenAIEmbeddings()\n",
    "        self.episodic_store = None\n",
    "        self.semantic_store = None\n",
    "\n",
    "    def add_memory(self, text: str, memory_type: str):\n",
    "        \"\"\"Add a memory to either episodic or semantic store\"\"\"\n",
    "        if memory_type == \"episodic\":\n",
    "            if self.episodic_store is None:\n",
    "                self.episodic_store = FAISS.from_texts([text], self.embeddings)\n",
    "            else:\n",
    "                self.episodic_store.add_texts([text])\n",
    "        elif memory_type == \"semantic\":\n",
    "            if self.semantic_store is None:\n",
    "                self.semantic_store = FAISS.from_texts([text], self.embeddings)\n",
    "            else:\n",
    "                self.semantic_store.add_texts([text])\n",
    "\n",
    "    def search_memories(self, query: str, k: int = 5) -> Dict[str, List[tuple[str, float]]]:\n",
    "        \"\"\"Search both memory stores\"\"\"\n",
    "        results = {\"episodic\": [], \"semantic\": []}\n",
    "\n",
    "        if self.episodic_store:\n",
    "            episodic_results = self.episodic_store.similarity_search_with_score(query, k=k)\n",
    "            results[\"episodic\"] = [(doc.page_content, score) for doc, score in episodic_results]\n",
    "\n",
    "        if self.semantic_store:\n",
    "            semantic_results = self.semantic_store.similarity_search_with_score(query, k=k)\n",
    "            results[\"semantic\"] = [(doc.page_content, score) for doc, score in semantic_results]\n",
    "\n",
    "        return results"
   ],
   "id": "5f823410ae7deb9b",
   "outputs": [],
   "execution_count": 15
  },
  {
   "metadata": {},
   "cell_type": "markdown",
   "source": "### Search and Generation Functions",
   "id": "5129a38d93eef1ec"
  },
  {
   "metadata": {
    "ExecuteTime": {
     "end_time": "2025-01-15T00:13:54.677764Z",
     "start_time": "2025-01-15T00:13:54.673549Z"
    }
   },
   "cell_type": "code",
   "source": [
    "def enhanced_search(query: str, memory_store, vectorstore):\n",
    "    \"\"\"Perform enhanced search with memory integration\"\"\"\n",
    "    start_time = time.time()\n",
    "\n",
    "    try:\n",
    "        # Get relevant memories\n",
    "        memories = memory_store.search_memories(query, k=5)\n",
    "        print(\"\\nRelevant memories found:\")\n",
    "        for mem_type, mem_list in memories.items():\n",
    "            for content, score in mem_list:\n",
    "                relevance = 1 / (1 + score)\n",
    "                print(f\"- {mem_type.title()} Memory (relevance: {relevance:.2f}):\")\n",
    "                print(f\"  {content[:100]}...\")\n",
    "\n",
    "        # Combine query with memories for better search\n",
    "        memory_context = \" \".join([mem[0] for mems in memories.values() for mem in mems])\n",
    "        enhanced_query = f\"{query} Context: {memory_context}\"\n",
    "\n",
    "        # Search document\n",
    "        results = vectorstore.similarity_search(enhanced_query, k=5)\n",
    "        contexts = [doc.page_content for doc in results]\n",
    "\n",
    "        # Store this interaction as a new episodic memory\n",
    "        if contexts:\n",
    "            memory_store.add_memory(\n",
    "                f\"Query: {query}\\nRelevant content: {contexts[0][:200]}\",\n",
    "                \"episodic\"\n",
    "            )\n",
    "\n",
    "        print(f\"Search completed in {time.time() - start_time:.2f} seconds\")\n",
    "        return contexts, memories\n",
    "\n",
    "    except Exception as e:\n",
    "        print(f\"Search error: {e}\")\n",
    "        return [], {}\n",
    "\n",
    "def generate_answer(query: str, contexts: List[str], memories: Dict[str, List[tuple[str, float]]]) -> str:\n",
    "    \"\"\"Generate concise answer using contexts and memories\"\"\"\n",
    "    memory_text = \"\\n\".join([\n",
    "        f\"{mem_type.title()} Memory: {content}\"\n",
    "        for mem_type, mem_list in memories.items()\n",
    "        for content, _ in mem_list\n",
    "    ])\n",
    "\n",
    "    prompt = f\"\"\"Provide a concise answer to the query using the following information.\n",
    "\n",
    "Query: {query}\n",
    "\n",
    "Context:\n",
    "{' '.join(contexts)}\n",
    "\n",
    "Related Memories:\n",
    "{memory_text}\n",
    "\n",
    "Focus on key impacts and implications. Be clear and concise.\n",
    "\"\"\"\n",
    "\n",
    "    response = client.chat.completions.create(\n",
    "        model=\"gpt-3.5-turbo\",\n",
    "        messages=[\n",
    "            {\"role\": \"system\", \"content\": \"You are a knowledgeable assistant. Provide clear, concise answers.\"},\n",
    "            {\"role\": \"user\", \"content\": prompt}\n",
    "        ],\n",
    "        max_tokens=200,\n",
    "        temperature=0.7\n",
    "    )\n",
    "\n",
    "    return response.choices[0].message.content"
   ],
   "id": "bc049fa0d88b8546",
   "outputs": [],
   "execution_count": 16
  },
  {
   "metadata": {},
   "cell_type": "markdown",
   "source": "### Initialize Components",
   "id": "4f5e51437c7d37c2"
  },
  {
   "metadata": {
    "ExecuteTime": {
     "end_time": "2025-01-15T00:13:56.264284Z",
     "start_time": "2025-01-15T00:13:54.682315Z"
    }
   },
   "cell_type": "code",
   "source": [
    "# Initialize memory store\n",
    "memory_store = SimpleMemoryStore()\n",
    "\n",
    "# Load and process document\n",
    "path = \"../data/Understanding_Climate_Change.pdf\"\n",
    "loader = PyPDFLoader(path)\n",
    "documents = loader.load()\n",
    "vectorstore = FAISS.from_documents(documents, OpenAIEmbeddings())"
   ],
   "id": "698e3786c420c76f",
   "outputs": [],
   "execution_count": 17
  },
  {
   "metadata": {},
   "cell_type": "markdown",
   "source": "### Usage Example",
   "id": "63e823251233ca38"
  },
  {
   "metadata": {
    "ExecuteTime": {
     "end_time": "2025-01-15T00:13:58.065872Z",
     "start_time": "2025-01-15T00:13:56.273581Z"
    }
   },
   "cell_type": "code",
   "source": [
    "query = \"What are the impacts of climate change on biodiversity?\"\n",
    "\n",
    "print(\"\\nProcessing Query:\", query)\n",
    "print(\"=\" * 50)\n",
    "\n",
    "contexts, memories = enhanced_search(query, memory_store, vectorstore)\n",
    "\n",
    "if contexts:\n",
    "    print(\"\\nRetrieved Contexts:\")\n",
    "    for i, context in enumerate(contexts, 1):\n",
    "        print(f\"\\nContext {i}:\")\n",
    "        print(\"=\" * 50)\n",
    "        print(context[:200] + \"...\" if len(context) > 200 else context)\n",
    "        print(\"-\" * 50)\n",
    "\n",
    "    answer = generate_answer(query, contexts, memories)\n",
    "    print(\"\\nGenerated Answer:\")\n",
    "    print(\"=\" * 50)\n",
    "    print(answer)\n",
    "    print(\"-\" * 50)"
   ],
   "id": "b00be38f336c4d7a",
   "outputs": [
    {
     "name": "stdout",
     "output_type": "stream",
     "text": [
      "\n",
      "Processing Query: What are the impacts of climate change on biodiversity?\n",
      "==================================================\n",
      "\n",
      "Relevant memories found:\n",
      "Search completed in 1.06 seconds\n",
      "\n",
      "Retrieved Contexts:\n",
      "\n",
      "Context 1:\n",
      "==================================================\n",
      "goals. Policies should promote synergies between biodiversity conservation and climate \n",
      "action.  \n",
      "Chapter 10: Climate Change and Human Health  \n",
      "Health Impacts  \n",
      "Heat -Related Illnesses  \n",
      "Rising temper...\n",
      "--------------------------------------------------\n",
      "\n",
      "Context 2:\n",
      "==================================================\n",
      "Freshwater Ecosystems  \n",
      "Freshwater ecosystems, including rivers, lakes, and wetlands, are affected by changes in \n",
      "precipitation patterns, temperature, and water flow. These changes can lead to altered...\n",
      "--------------------------------------------------\n",
      "\n",
      "Context 3:\n",
      "==================================================\n",
      "Local communities are often on the front lines of climate impacts and can be powerful agents \n",
      "of change. Community -based conservation projects involve residents in protecting and \n",
      "restoring natural r...\n",
      "--------------------------------------------------\n",
      "\n",
      "Context 4:\n",
      "==================================================\n",
      "The Arctic is warming at more than twice the global average rate, leading to significant ice \n",
      "loss. Antarctic ice sheets are also losing mass, contributing to sea level rise. This melting \n",
      "affects glo...\n",
      "--------------------------------------------------\n",
      "\n",
      "Context 5:\n",
      "==================================================\n",
      "large -scale climate solutions. PPPs are particularly effective in areas such as infrastructure \n",
      "development, renewable energy projects, and sustainable urban planning.  \n",
      "Social and Cultural Change  \n",
      "...\n",
      "--------------------------------------------------\n",
      "\n",
      "Generated Answer:\n",
      "==================================================\n",
      "Climate change impacts biodiversity by altering habitat ranges, changing species distributions, and disrupting ecosystem functions in both terrestrial and marine ecosystems. This leads to a loss of biodiversity, ecological imbalance, and affects marine food webs and fisheries.\n",
      "--------------------------------------------------\n"
     ]
    }
   ],
   "execution_count": 18
  }
 ],
 "metadata": {
  "kernelspec": {
   "display_name": "Python 3",
   "language": "python",
   "name": "python3"
  },
  "language_info": {
   "codemirror_mode": {
    "name": "ipython",
    "version": 2
   },
   "file_extension": ".py",
   "mimetype": "text/x-python",
   "name": "python",
   "nbconvert_exporter": "python",
   "pygments_lexer": "ipython2",
   "version": "2.7.6"
  }
 },
 "nbformat": 4,
 "nbformat_minor": 5
}
