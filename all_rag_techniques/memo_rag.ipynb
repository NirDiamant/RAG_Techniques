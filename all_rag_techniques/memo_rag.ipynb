{
 "cells": [
  {
   "metadata": {},
   "cell_type": "markdown",
   "source": [
    "# MemoRAG: Enhancing Retrieval-Augmented Generation with Memory Models\n",
    "\n",
    "## Overview\n",
    "MemoRAG is a Retrieval-Augmented Generation (RAG) framework that incorporates a memory model as an auxiliary step before the retrieval phase. In doing so, it bridges the gap in contextual understanding and reasoning that standard RAG techniques face when addressing queries with implicit or ambiguous information needs and unstructured external knowledge.\n",
    "\n",
    "## Motivation\n",
    "Standard RAG techniques rely heavily on lexical or semantic matching between the query and the knowledge base. While this approach works well for clear question answering tasks with structured knowledge, it often falls short when handling queries with implicit or ambiguous information (e.g., describing the relationships between main characters in a novel) or when the knowledge base is unstructured (e.g., fiction books). In such cases, lexical or semantic matching seldom produces the desired outputs.\n",
    "\n",
    "## Key Components\n",
    "1. **Memory**: A compressed representation of the database created by a long-context model, designed to handle and summarize extensive inputs efficiently.\n",
    "2. **Retriever**: A standard RAG retrieval model responsible for selecting relevant context from the knowledge base to support the generator.\n",
    "3. **Generator**: A generative language model that produces responses by combining the query with the retrieved context, similar to standard RAG setups.\n",
    "\n",
    "## Method Details\n",
    "### 1. Memory\n",
    "- The memory module serves as an auxiliary component to enhance the retriever’s ability to identify better matches between queries and relevant parts of the database. It takes the original query and the database as inputs and produces staging answers — intermediate outputs like clues, surrogate queries, or key points — which the retriever uses instead of the original query.\n",
    "- Long-term memory is constructed by running a long-context model, such as Qwen2-7B-Instruct or Mistral-7B-Instruct-v0.2, over the entire database. This process generates a compressed representation of the database through an attention mechanism.\n",
    "- The compressed representation is stored as key-value pairs, facilitating efficient and accurate retrieval.\n",
    "- Released memory models include memorag-qwen2-7b-inst and memorag-mistral-7b-inst, derived from Qwen2-7B-Instruct and Mistral-7B-Instruct-v0.2, respectively.\n",
    "\n",
    "### 2. Retriever\n",
    "- The retriever is a standard retrieval model, adapted to take processed queries (created by the memory module as staging answers) instead of the original query.\n",
    "- It outputs the retrieved **context**, which serves as the basis for generating the final answer.\n",
    "\n",
    "\n",
    "### 3. Generator\n",
    "- The generator produces the final response by combining the retriever’s output (retrieved context) with the original query.\n",
    "- MemoRAG ensures compatibility and consistency by using the memory module’s underlying model as the default generator.\n",
    "\n",
    "## Benefits of the Approach\n",
    "1. **Extended Scope of Queries:** MemoRAG's preprocessing capabilities enable it to handle complex and long-context tasks that conventional RAG methods struggle with.\n",
    "\n",
    "2. **Improved Accuracy:** By simplifying and adjusting queries before retrieval, MemoRAG enhances performance over standard RAG methods.\n",
    "\n",
    "3. **Flexibility:** Adapts to diverse tasks, datasets, and retrieval scenarios.\n",
    "\n",
    "4. **Robustness:** Improved performance remains consistent across various generators, datasets, and query types.\n",
    "\n",
    "5. **Efficiency**: The use of key-value compression reduces computational overhead.\n",
    "\n",
    "## Conclusion\n",
    "The memory module in MemoRAG significantly enhances comprehension of both the queries and the database, enabling more effective retrieval. Its ability to preprocess queries, generate staging answers, and leverage long-context memory models ensures high-quality responses, making MemoRAG a significant step forward in the evolution of retrieval-augmented generation.\n"
   ],
   "id": "67e98dec56de7fdd"
  },
  {
   "metadata": {},
   "cell_type": "markdown",
   "source": [
    "<div style=\"text-align: center;\">\n",
    "\n",
    "<img src=\"../images/memo_rag.svg\" alt=\"MemoRAG\" style=\"width:100%; height:auto;\">\n",
    "</div>"
   ],
   "id": "abfa998b6aa7d7ce"
  },
  {
   "metadata": {},
   "cell_type": "code",
   "outputs": [],
   "execution_count": null,
   "source": "",
   "id": "d7fc6684d6b770b0"
  }
 ],
 "metadata": {
  "kernelspec": {
   "display_name": "Python 3",
   "language": "python",
   "name": "python3"
  },
  "language_info": {
   "codemirror_mode": {
    "name": "ipython",
    "version": 2
   },
   "file_extension": ".py",
   "mimetype": "text/x-python",
   "name": "python",
   "nbconvert_exporter": "python",
   "pygments_lexer": "ipython2",
   "version": "2.7.6"
  }
 },
 "nbformat": 4,
 "nbformat_minor": 5
}
