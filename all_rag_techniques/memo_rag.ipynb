{
 "cells": [
  {
   "metadata": {},
   "cell_type": "markdown",
   "source": [
    "# MemoRAG: Enhancing Retrieval-Augmented Generation with Memory Models\n",
    "\n",
    "## Overview\n",
    "MemoRAG is a Retrieval-Augmented Generation (RAG) framework that incorporates a memory model as an auxiliary step before the retrieval phase. In doing so, it bridges the gap in contextual understanding and reasoning that standard RAG techniques face when addressing queries with implicit or ambiguous information needs and unstructured external knowledge.\n",
    "\n",
    "## Motivation\n",
    "Standard RAG techniques rely heavily on lexical or semantic matching between the query and the knowledge base. While this approach works well for clear question answering tasks with structured knowledge, it often falls short when handling queries with implicit or ambiguous information (e.g., describing the relationships between main characters in a novel) or when the knowledge base is unstructured (e.g., fiction books). In such cases, lexical or semantic matching seldom produces the desired outputs.\n",
    "\n",
    "## Key Components\n",
    "1. **Memory**: A compressed representation of the database created by a long-context model, designed to handle and summarize extensive inputs efficiently.\n",
    "2. **Retriever**: A standard RAG retrieval model responsible for selecting relevant context from the knowledge base to support the generator.\n",
    "3. **Generator**: A generative language model that produces responses by combining the query with the retrieved context, similar to standard RAG setups.\n",
    "\n",
    "## Method Details\n",
    "### 1. Memory\n",
    "- The memory module serves as an auxiliary component to enhance the retriever’s ability to identify better matches between queries and relevant parts of the database. It takes the original query and the database as inputs and produces staging answers — intermediate outputs like clues, surrogate queries, or key points — which the retriever uses instead of the original query.\n",
    "- Long-term memory is constructed by running a long-context model, such as Qwen2-7B-Instruct or Mistral-7B-Instruct-v0.2, over the entire database. This process generates a compressed representation of the database through an attention mechanism.\n",
    "- The compressed representation is stored as key-value pairs, facilitating efficient and accurate retrieval.\n",
    "- Released memory models include memorag-qwen2-7b-inst and memorag-mistral-7b-inst, derived from Qwen2-7B-Instruct and Mistral-7B-Instruct-v0.2, respectively.\n",
    "\n",
    "### 2. Retriever\n",
    "- The retriever is a standard retrieval model, adapted to take processed queries (created by the memory module as staging answers) instead of the original query.\n",
    "- It outputs the retrieved **context**, which serves as the basis for generating the final answer.\n",
    "\n",
    "\n",
    "### 3. Generator\n",
    "- The generator produces the final response by combining the retriever’s output (retrieved context) with the original query.\n",
    "- MemoRAG ensures compatibility and consistency by using the memory module’s underlying model as the default generator.\n",
    "\n",
    "## Benefits of the Approach\n",
    "1. **Extended Scope of Queries:** MemoRAG's preprocessing capabilities enable it to handle complex and long-context tasks that conventional RAG methods struggle with.\n",
    "\n",
    "2. **Improved Accuracy:** By simplifying and adjusting queries before retrieval, MemoRAG enhances performance over standard RAG methods.\n",
    "\n",
    "3. **Flexibility:** Adapts to diverse tasks, datasets, and retrieval scenarios.\n",
    "\n",
    "4. **Robustness:** Improved performance remains consistent across various generators, datasets, and query types.\n",
    "\n",
    "5. **Efficiency**: The use of key-value compression reduces computational overhead.\n",
    "\n",
    "## Conclusion\n",
    "The memory module in MemoRAG significantly enhances comprehension of both the queries and the database, enabling more effective retrieval. Its ability to preprocess queries, generate staging answers, and leverage long-context memory models ensures high-quality responses, making MemoRAG a significant step forward in the evolution of retrieval-augmented generation.\n"
   ],
   "id": "67e98dec56de7fdd"
  },
  {
   "metadata": {},
   "cell_type": "markdown",
   "source": [
    "<div style=\"text-align: center;\">\n",
    "\n",
    "<img src=\"../images/memo_rag.svg\" alt=\"MemoRAG\" style=\"width:100%; height:auto;\">\n",
    "</div>"
   ],
   "id": "abfa998b6aa7d7ce"
  },
  {
   "metadata": {},
   "cell_type": "markdown",
   "source": "## Implementation",
   "id": "76c252dd34083769"
  },
  {
   "metadata": {},
   "cell_type": "markdown",
   "source": "### Imports",
   "id": "2bc3b3e34c811bd5"
  },
  {
   "metadata": {
    "ExecuteTime": {
     "end_time": "2025-01-25T21:48:24.419561Z",
     "start_time": "2025-01-25T21:48:23.735069Z"
    }
   },
   "cell_type": "code",
   "source": [
    "import os\n",
    "from dotenv import load_dotenv\n",
    "# from typing import List\n",
    "from langchain_community.embeddings import OpenAIEmbeddings\n",
    "# from langchain_community.vectorstores import FAISS\n",
    "# from langchain_community.document_loaders import PyPDFLoader\n",
    "from openai import OpenAI\n",
    "from helper_functions import *"
   ],
   "id": "e31a95191a274c83",
   "outputs": [],
   "execution_count": 1
  },
  {
   "metadata": {},
   "cell_type": "markdown",
   "source": "### OpenAI Setup",
   "id": "a84d4f5a1fd94512"
  },
  {
   "metadata": {
    "ExecuteTime": {
     "end_time": "2025-01-25T21:48:26.204564Z",
     "start_time": "2025-01-25T21:48:26.191517Z"
    }
   },
   "cell_type": "code",
   "source": [
    "load_dotenv()\n",
    "client = OpenAI(api_key=os.getenv('OPENAI_API_KEY'))"
   ],
   "id": "705080e6703ad71c",
   "outputs": [],
   "execution_count": 2
  },
  {
   "metadata": {},
   "cell_type": "markdown",
   "source": "### Memory Module Classes",
   "id": "62fd38f51251d71a"
  },
  {
   "metadata": {
    "ExecuteTime": {
     "end_time": "2025-01-25T22:06:08.137556Z",
     "start_time": "2025-01-25T22:06:08.122972Z"
    }
   },
   "cell_type": "code",
   "source": [
    "class MemoryStore:\n",
    "    \"\"\"The MemoryStore class is a realization of the Memory Module discussed in the paper.\n",
    "    Its 'memorize' method is used to create a key-value compression of the original text (database).\n",
    "    This Compression can then be used by the 'get_staging_answer' method for creating the processed query to be used later for retrieval\"\"\"\n",
    "\n",
    "    def __init__(self):\n",
    "        self.embeddings = OpenAIEmbeddings()\n",
    "        self.store = None\n",
    "\n",
    "    def memorize(self, document: str):\n",
    "        \"\"\"Process document into key-value pairs and store them\n",
    "        Keys: Embeddings of main topics/questions\n",
    "        Values: Corresponding detailed information\"\"\"\n",
    "\n",
    "        extraction_prompt = \"\"\"Extract key topics and their detailed information from this text.\n",
    "        For each key topic:\n",
    "        1. Identify the main concept, entity, or potential question\n",
    "        2. Provide the corresponding detailed information or answer\n",
    "\n",
    "        Text:\n",
    "        {document}\n",
    "\n",
    "        Format each pair as:\n",
    "        Topic: <topic>\n",
    "        Details: <details>\n",
    "        \"\"\"\n",
    "\n",
    "        response = client.chat.completions.create(\n",
    "            model=\"gpt-4o-mini\",\n",
    "            messages=[\n",
    "                {\"role\": \"system\", \"content\": \"Extract key-value pairs from document\"},\n",
    "                {\"role\": \"user\", \"content\": extraction_prompt.format(document=document)}\n",
    "            ]\n",
    "        )\n",
    "\n",
    "        # Parse the response into key-value pairs\n",
    "        pairs = self._parse_into_pairs(response.choices[0].message.content)\n",
    "\n",
    "        # Store the pair\n",
    "        for topic, details in pairs:\n",
    "            combined_text = f\"Topic: {topic}\\nDetails: {details}\"\n",
    "            if self.store is None:\n",
    "                self.store = FAISS.from_texts(\n",
    "                    [combined_text], self.embeddings, metadatas=[{\"topic\": topic}]\n",
    "                )\n",
    "            else:\n",
    "                # Check if topic already exists in metadata\n",
    "                existing_topics = [metadata[\"topic\"] for metadata in self.store.metadata]\n",
    "                if topic in existing_topics:\n",
    "                    continue  # Skip duplicates\n",
    "                self.store.add_texts([combined_text], metadatas=[{\"topic\": topic}])\n",
    "\n",
    "    def _parse_into_pairs(self, text: str):\n",
    "        \"\"\"Parse GPT response into list of (topic, details) pairs\"\"\"\n",
    "        pairs = []\n",
    "        lines = text.split('\\n')\n",
    "        current_topic = None\n",
    "        current_details = []\n",
    "\n",
    "        for line in lines:\n",
    "            if line.startswith('Topic:'):\n",
    "                if current_topic:  # Save previous pair\n",
    "                    pairs.append((current_topic, ' '.join(current_details)))\n",
    "                current_topic = line[6:].strip()\n",
    "                current_details = []\n",
    "            elif line.startswith('Details:'):\n",
    "                current_details.append(line[8:].strip())\n",
    "\n",
    "        # Add the last pair\n",
    "        if current_topic:\n",
    "            pairs.append((current_topic, ' '.join(current_details)))\n",
    "\n",
    "        return pairs\n",
    "\n",
    "    def get_staging_answer(self, query: str) -> str:\n",
    "        \"\"\"Generate staging answer y = Θ_mem(q, D | θ_mem)\n",
    "        This should provide rough clues/outline to guide context retrieval\"\"\"\n",
    "\n",
    "        if not self.store:\n",
    "            return None\n",
    "\n",
    "        results = self.store.similarity_search_with_score(query, k=5)\n",
    "        relevant_info = [\n",
    "            f\"Topic: {doc.metadata['topic']}\\nDetails: {doc.page_content}\"\n",
    "            for doc, _ in results\n",
    "        ]\n",
    "\n",
    "        prompt = f\"\"\"Based on available information, generate a rough outline/staging answer.\n",
    "        This should help guide retrieval of detailed context, but doesn't need to be fully accurate.\n",
    "\n",
    "        Query: {query}\n",
    "\n",
    "        Relevant Information:\n",
    "        {relevant_info}\n",
    "\n",
    "        Generate a rough outline that could help locate the correct answers:\"\"\"\n",
    "\n",
    "        response = client.chat.completions.create(\n",
    "            model=\"gpt-3.5-turbo\",\n",
    "            messages=[\n",
    "                {\"role\": \"system\", \"content\": \"Generate rough outlines to guide information retrieval\"},\n",
    "                {\"role\": \"user\", \"content\": prompt}\n",
    "            ],\n",
    "            temperature=0.7  # Allow for some creativity in generating clues\n",
    "        )\n",
    "\n",
    "        return response.choices[0].message.content"
   ],
   "id": "5f823410ae7deb9b",
   "outputs": [],
   "execution_count": 12
  },
  {
   "metadata": {
    "ExecuteTime": {
     "end_time": "2025-01-25T21:48:30.044039Z",
     "start_time": "2025-01-25T21:48:30.042154Z"
    }
   },
   "cell_type": "code",
   "source": "",
   "id": "79d42455a961468e",
   "outputs": [],
   "execution_count": null
  },
  {
   "metadata": {},
   "cell_type": "markdown",
   "source": "### Retrieval Function",
   "id": "5129a38d93eef1ec"
  },
  {
   "metadata": {
    "ExecuteTime": {
     "end_time": "2025-01-25T21:48:30.789975Z",
     "start_time": "2025-01-25T21:48:30.787880Z"
    }
   },
   "cell_type": "code",
   "source": [
    "def retrieve_context(staging_answer: str, vectorstore) -> List[str]:\n",
    "    \"\"\"Retrieve relevant context using the staging answer and the database vectorstore.\n",
    "    Implements c = Γ(y, D | γ) from the paper\"\"\"\n",
    "\n",
    "    results = vectorstore.similarity_search(staging_answer, k=5)\n",
    "    contexts = [doc.page_content for doc in results]\n",
    "\n",
    "    return contexts"
   ],
   "id": "bc049fa0d88b8546",
   "outputs": [],
   "execution_count": 4
  },
  {
   "metadata": {},
   "cell_type": "markdown",
   "source": "### Generation Function",
   "id": "f38ef305cf0cc904"
  },
  {
   "metadata": {
    "ExecuteTime": {
     "end_time": "2025-01-25T21:48:32.819698Z",
     "start_time": "2025-01-25T21:48:32.815550Z"
    }
   },
   "cell_type": "code",
   "source": [
    "def generate_answer(query: str, contexts: List[str]) -> str:\n",
    "    \"\"\"Generate final answer y = Θ(q, c | θ)\"\"\"\n",
    "    prompt = f\"\"\"Based on the provided context, answer the query.\n",
    "\n",
    "Query: {query}\n",
    "\n",
    "Retrieved Information:\n",
    "{' '.join(contexts)}\n",
    "\n",
    "Provide a clear and concise answer focusing only on the retrieved information.\n",
    "\"\"\"\n",
    "\n",
    "    response = client.chat.completions.create(\n",
    "        model=\"gpt-3.5-turbo\",\n",
    "        messages=[\n",
    "            {\"role\": \"system\", \"content\": \"You are a knowledgeable assistant. Provide clear, concise answers.\"},\n",
    "            {\"role\": \"user\", \"content\": prompt}\n",
    "        ],\n",
    "        max_tokens=200,\n",
    "        temperature=0.7\n",
    "    )\n",
    "\n",
    "    return response.choices[0].message.content"
   ],
   "id": "ab53db37ee3502ad",
   "outputs": [],
   "execution_count": 5
  },
  {
   "metadata": {},
   "cell_type": "markdown",
   "source": "### Query Processing Function",
   "id": "66ca6ece210c2c18"
  },
  {
   "metadata": {
    "ExecuteTime": {
     "end_time": "2025-01-25T21:48:37.770070Z",
     "start_time": "2025-01-25T21:48:37.767132Z"
    }
   },
   "cell_type": "code",
   "source": [
    "def process_query(query: str, memory_store, vectorstore):\n",
    "    print(\"\\nProcessing Query:\", query)\n",
    "    print(\"=\" * 50)\n",
    "\n",
    "    # y = Θ_mem(q, D | θ_mem)\n",
    "    staging_answer = memory_store.get_staging_answer(query)\n",
    "    print(f\"Staging Answer:\\n{staging_answer}\")\n",
    "\n",
    "    # c = Γ(y, D | γ)\n",
    "    contexts = retrieve_context(staging_answer, vectorstore)\n",
    "    print(f\"Retrieved Context Example: {contexts[0]}\")\n",
    "\n",
    "    # y = Θ(q, c | θ)\n",
    "    final_answer = generate_answer(query, contexts)\n",
    "    print(f\"Final Answer: {final_answer}\")\n",
    "\n",
    "    return contexts, final_answer"
   ],
   "id": "e3e4c2970f0f8641",
   "outputs": [],
   "execution_count": 6
  },
  {
   "metadata": {},
   "cell_type": "markdown",
   "source": "### Initialize Components",
   "id": "4f5e51437c7d37c2"
  },
  {
   "metadata": {},
   "cell_type": "code",
   "source": [
    "# Initialize memory store\n",
    "memory_store = MemoryStore()\n",
    "\n",
    "# Load and process document\n",
    "path = \"../data/Understanding_Climate_Change.pdf\"\n",
    "loader = PyPDFLoader(path)\n",
    "documents = loader.load()\n",
    "document_text = '\\n'.join([doc.page_content for doc in documents])\n",
    "memory_store.memorize(document_text)\n",
    "chunks_vector_store = encode_pdf(path, chunk_size=1000, chunk_overlap=200)"
   ],
   "id": "698e3786c420c76f",
   "outputs": [],
   "execution_count": null
  },
  {
   "metadata": {},
   "cell_type": "markdown",
   "source": "### Usage Examples",
   "id": "63e823251233ca38"
  },
  {
   "metadata": {},
   "cell_type": "code",
   "source": [
    "query_1 = \"What are the impacts of climate change on biodiversity?\"\n",
    "query_2 = \"Please summarize the climate change article\"\n",
    "query_3 = \"Describe the social and economic influence of climate change.\"\n",
    "\n",
    "for query in [query_1, query_2, query_3]:\n",
    "    process_query(query, memory_store, chunks_vector_store)"
   ],
   "id": "e458df9a279c725e",
   "outputs": [],
   "execution_count": null
  },
  {
   "metadata": {},
   "cell_type": "markdown",
   "source": "## Comparison",
   "id": "13af1e5e102361c7"
  },
  {
   "metadata": {},
   "cell_type": "markdown",
   "source": "### Simple RAG",
   "id": "6bb407079faa488c"
  },
  {
   "metadata": {
    "ExecuteTime": {
     "end_time": "2025-01-25T21:48:49.121059Z",
     "start_time": "2025-01-25T21:48:48.544355Z"
    }
   },
   "cell_type": "code",
   "source": "from evaluation.evalute_rag import *",
   "id": "1c64d2d3137f4630",
   "outputs": [
    {
     "name": "stderr",
     "output_type": "stream",
     "text": [
      "/Users/erantrabelci/workspace/RAG_Techniques/.venv/lib/python3.12/site-packages/deepeval/__init__.py:49: UserWarning: You are using deepeval version 1.1.6, however version 2.2.6 is available. You should consider upgrading via the \"pip install --upgrade deepeval\" command.\n",
      "  warnings.warn(\n"
     ]
    }
   ],
   "execution_count": 7
  },
  {
   "metadata": {},
   "cell_type": "code",
   "source": "chunks_query_retriever = chunks_vector_store.as_retriever(search_kwargs={\"k\": 2})",
   "id": "d23656ec0b51df02",
   "outputs": [],
   "execution_count": null
  },
  {
   "metadata": {},
   "cell_type": "code",
   "source": "evaluate_rag(chunks_query_retriever)",
   "id": "149b6842993ba619",
   "outputs": [],
   "execution_count": null
  },
  {
   "metadata": {},
   "cell_type": "markdown",
   "source": "### MemoRAG",
   "id": "ef976d266f232314"
  },
  {
   "metadata": {},
   "cell_type": "code",
   "source": [
    "def evaluate_memo_rag(num_questions: int = 5) -> None:\n",
    "    \"\"\"\n",
    "    Evaluate the MemoRAG system using predefined metrics.\n",
    "\n",
    "    Args:\n",
    "        num_questions (int): Number of questions to evaluate (default: 5).\n",
    "    \"\"\"\n",
    "    q_a_file_name = \"../data/q_a.json\"\n",
    "    with open(q_a_file_name, \"r\", encoding=\"utf-8\") as json_file:\n",
    "        q_a = json.load(json_file)\n",
    "\n",
    "    questions = [qa[\"question\"] for qa in q_a][:num_questions]\n",
    "    ground_truth_answers = [qa[\"answer\"] for qa in q_a][:num_questions]\n",
    "    generated_answers = []\n",
    "    retrieved_documents = []\n",
    "\n",
    "    # Generate answers and retrieve documents for each question\n",
    "    for question in questions:\n",
    "        contexts, result = process_query(question, memory_store, chunks_vector_store)\n",
    "        retrieved_documents.append(contexts)\n",
    "        generated_answers.append(result)\n",
    "\n",
    "    # Create test cases and evaluate\n",
    "    test_cases = create_deep_eval_test_cases(questions, ground_truth_answers, generated_answers, retrieved_documents)\n",
    "    evaluate(\n",
    "        test_cases=test_cases,\n",
    "        metrics=[correctness_metric, faithfulness_metric, relevance_metric]\n",
    "    )"
   ],
   "id": "eef8c9d26a3630fa",
   "outputs": [],
   "execution_count": null
  },
  {
   "metadata": {},
   "cell_type": "code",
   "source": "evaluate_memo_rag()",
   "id": "c6b52873d8d46ec8",
   "outputs": [],
   "execution_count": null
  },
  {
   "metadata": {},
   "cell_type": "code",
   "source": "",
   "id": "38c0d7200fe95b1f",
   "outputs": [],
   "execution_count": null
  },
  {
   "metadata": {},
   "cell_type": "code",
   "source": "",
   "id": "6aca15c31eaca93e",
   "outputs": [],
   "execution_count": null
  },
  {
   "metadata": {
    "ExecuteTime": {
     "end_time": "2025-01-25T22:06:24.949303Z",
     "start_time": "2025-01-25T22:06:17.227276Z"
    }
   },
   "cell_type": "code",
   "source": [
    "from langchain.text_splitter import RecursiveCharacterTextSplitter\n",
    "\n",
    "# Initialize memory store\n",
    "memory_store = MemoryStore()\n",
    "\n",
    "# Load and process document\n",
    "path = \"../data/The_Wealth_of_Nations_Project_Gutenberg.pdf\"\n",
    "loader = PyPDFLoader(path)\n",
    "documents = loader.load()\n",
    "document_text = '\\n'.join([doc.page_content for doc in documents])\n",
    "# Split document into smaller chunks\n",
    "text_splitter = RecursiveCharacterTextSplitter(\n",
    "    chunk_size=50000,\n",
    "    chunk_overlap=5000\n",
    ")"
   ],
   "id": "944c44089afefe82",
   "outputs": [],
   "execution_count": 13
  },
  {
   "metadata": {
    "ExecuteTime": {
     "end_time": "2025-01-25T22:06:24.999798Z",
     "start_time": "2025-01-25T22:06:24.958477Z"
    }
   },
   "cell_type": "code",
   "source": [
    "chunks = text_splitter.split_text(document_text)\n",
    "\n",
    "# Memorize each chunk\n",
    "for chunk in chunks:\n",
    "    memory_store.memorize(chunk)"
   ],
   "id": "91d9c54079d6e8f",
   "outputs": [
    {
     "ename": "AttributeError",
     "evalue": "'MemoryStore' object has no attribute 'memorize'",
     "output_type": "error",
     "traceback": [
      "\u001B[0;31m---------------------------------------------------------------------------\u001B[0m",
      "\u001B[0;31mAttributeError\u001B[0m                            Traceback (most recent call last)",
      "Cell \u001B[0;32mIn[14], line 5\u001B[0m\n\u001B[1;32m      3\u001B[0m \u001B[38;5;66;03m# Memorize each chunk\u001B[39;00m\n\u001B[1;32m      4\u001B[0m \u001B[38;5;28;01mfor\u001B[39;00m chunk \u001B[38;5;129;01min\u001B[39;00m chunks:\n\u001B[0;32m----> 5\u001B[0m     \u001B[43mmemory_store\u001B[49m\u001B[38;5;241;43m.\u001B[39;49m\u001B[43mmemorize\u001B[49m(chunk)\n",
      "\u001B[0;31mAttributeError\u001B[0m: 'MemoryStore' object has no attribute 'memorize'"
     ]
    }
   ],
   "execution_count": 14
  },
  {
   "metadata": {},
   "cell_type": "code",
   "outputs": [],
   "execution_count": null,
   "source": "chunks_vector_store = encode_pdf(path, chunk_size=1000, chunk_overlap=200)",
   "id": "24ef615c550e344c"
  },
  {
   "metadata": {},
   "cell_type": "code",
   "source": [
    "def evaluate_memo_rag_long_context(num_questions: int = 5) -> None:\n",
    "    \"\"\"\n",
    "    Evaluate the MemoRAG system using predefined metrics.\n",
    "\n",
    "    Args:\n",
    "        num_questions (int): Number of questions to evaluate (default: 5).\n",
    "    \"\"\"\n",
    "    q_a_file_name = \"../data/q_a.json\"\n",
    "    with open(q_a_file_name, \"r\", encoding=\"utf-8\") as json_file:\n",
    "        q_a = json.load(json_file)\n",
    "\n",
    "    questions = [qa[\"question\"] for qa in q_a][:num_questions]\n",
    "    ground_truth_answers = [qa[\"answer\"] for qa in q_a][:num_questions]\n",
    "    generated_answers = []\n",
    "    retrieved_documents = []\n",
    "\n",
    "    # Generate answers and retrieve documents for each question\n",
    "    for question in questions:\n",
    "        contexts, result = process_query(question, memory_store, chunks_vector_store)\n",
    "        retrieved_documents.append(contexts)\n",
    "        generated_answers.append(result)\n",
    "\n",
    "    # Create test cases and evaluate\n",
    "    test_cases = create_deep_eval_test_cases(questions, ground_truth_answers, generated_answers, retrieved_documents)\n",
    "    evaluate(\n",
    "        test_cases=test_cases,\n",
    "        metrics=[correctness_metric, faithfulness_metric, relevance_metric]\n",
    "    )"
   ],
   "id": "cb03b85b6fdc02f9",
   "outputs": [],
   "execution_count": null
  }
 ],
 "metadata": {
  "kernelspec": {
   "display_name": "Python 3",
   "language": "python",
   "name": "python3"
  },
  "language_info": {
   "codemirror_mode": {
    "name": "ipython",
    "version": 2
   },
   "file_extension": ".py",
   "mimetype": "text/x-python",
   "name": "python",
   "nbconvert_exporter": "python",
   "pygments_lexer": "ipython2",
   "version": "2.7.6"
  }
 },
 "nbformat": 4,
 "nbformat_minor": 5
}
