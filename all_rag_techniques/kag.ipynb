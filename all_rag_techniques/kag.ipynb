{
 "cells": [
  {
   "cell_type": "markdown",
   "metadata": {},
   "source": [
    "# KAG: Knowledge Augmented Generation\n",
    "\n",
    " \n",
    "## Overview\n",
    "\n",
    " \n",
    "KAG is a logical reasoning and Q&A framework based on the OpenSPG engine and large language models, which is used to build logical reasoning and Q&A solutions for vertical domain knowledge bases. KAG can effectively overcome the ambiguity of traditional RAG vector similarity calculation and the noise problem of GraphRAG introduced by OpenIE. KAG supports logical reasoning and multi-hop fact Q&A, etc., and is significantly better than the current SOTA method\n",
    "\n",
    "## Motivation\n",
    "\n",
    " \n",
    "The goal of KAG is to build a knowledge-enhanced LLM service framework in professional domains, supporting logical reasoning, factual Q&A, etc. KAG fully integrates the logical and factual characteristics of the KGs. Its core features include:\n",
    "\n",
    "- Knowledge and Chunk Mutual Indexing structure to integrate more complete contextual text information.\n",
    "\n",
    "- Knowledge alignment using conceptual semantic reasoning to alleviate the noise problem caused by OpenIE.\n",
    "\n",
    "- Schema-constrained knowledge construction to support the representation and construction of domain expert knowledge.\n",
    "\n",
    "- Logical form-guided hybrid reasoning and retrieval to support logical reasoning and multi-hop reasoning Q&A.\n",
    "\n",
    "## Key Components\n",
    "\n",
    "Knowledge Representation: In the context of private knowledge bases, unstructured data, structured information, and business expert experience often coexist. KAG references the DIKW hierarchy to upgrade SPG to a version that is friendly to LLMs. \n",
    "Mixed Reasoning Guided by Logic Forms: KAG proposes a logically formal guided hybrid solution and inference engine. \n",
    "\n",
    "\n",
    "KAG ( [openspg.github.io](https://openspg.github.io/v2/) )\n"
   ]
  },
  {
   "cell_type": "markdown",
   "metadata": {},
   "source": [
    "<div style=\"text-align: center;\">\n",
    "\n",
    "<img src=\"https://github.com/OpenSPG/KAG/raw/master/_static/images/kag-arch.png\" alt=\"adaptive retrieval\" style=\"width:100%; height:auto;\">\n",
    "</div>"
   ]
  },
  {
   "cell_type": "markdown",
   "metadata": {},
   "source": [
    "The KAG framework includes three parts: kg-builder, kg-solver, and kag-model. This release only involves the first two parts, kag-model will be gradually open source release in the future. \n"
   ]
  },
  {
   "cell_type": "markdown",
   "metadata": {},
   "source": [
    "# Engine & Dependent Image Installation\n",
    "\n",
    "Use the following commands to download the docker-compose.yml file and launch the services with Docker Compose..\n"
   ]
  },
  {
   "cell_type": "code",
   "execution_count": null,
   "metadata": {},
   "outputs": [],
   "source": [
    "# set the HOME environment variable (only Windows users need to execute this command)\n",
    "# set HOME=%USERPROFILE%\n",
    "curl -sSL https://raw.githubusercontent.com/OpenSPG/openspg/refs/heads/master/dev/release/docker-compose-west.yml -o docker-compose-west.yml\n",
    "docker compose -f docker-compose-west.yml up -d\n"
   ]
  },
  {
   "cell_type": "markdown",
   "metadata": {},
   "source": [
    "# Installation of KAG\n",
    "\n",
    "Please refer to [KAG usage (developer mode)](https://openspg.github.io/v2/docs_en) guide for detailed introduction of the toolkit. Then you can use the built-in components to reproduce the performance results of the built-in datasets, and apply those components to new busineness scenarios.\n"
   ]
  },
  {
   "cell_type": "code",
   "execution_count": null,
   "metadata": {},
   "outputs": [],
   "source": [
    "# macOS / Linux developers\n",
    "Create conda env: conda create -n kag-demo python=3.10 && conda activate kag-demo\n",
    "Clone code: git clone https://github.com/OpenSPG/KAG.git\n",
    "Install KAG: cd KAG && pip install -e .\n",
    "\n",
    "\n",
    "# Windows developers\n",
    "Install the official Python 3.8.10 or later, install Git.\n",
    "Create and activate Python venv: py -m venv kag-demo && kag-demo\\Scripts\\activate \n",
    "Clone code: git clone https://github.com/OpenSPG/KAG.git\n",
    "Install KAG: cd KAG && pip install -e .\n"
   ]
  }
 ],
 "metadata": {
  "kernelspec": {
   "display_name": "Python 3",
   "language": "python",
   "name": "python3"
  },
  "language_info": {
   "codemirror_mode": {
    "name": "ipython",
    "version": 3
   },
   "file_extension": ".py",
   "mimetype": "text/x-python",
   "name": "python",
   "nbconvert_exporter": "python",
   "pygments_lexer": "ipython3",
   "version": "3.11.9"
  }
 },
 "nbformat": 4,
 "nbformat_minor": 2
}
